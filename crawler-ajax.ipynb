{
 "cells": [
  {
   "cell_type": "markdown",
   "metadata": {},
   "source": [
    "### 转义拼接URL"
   ]
  },
  {
   "cell_type": "code",
   "execution_count": 1,
   "metadata": {
    "collapsed": true
   },
   "outputs": [],
   "source": [
    "import requests\n",
    "from urllib.parse import urlencode\n",
    "from requests import codes\n",
    "import os\n",
    "from hashlib import md5\n",
    "from multiprocessing.pool import Pool\n",
    "import re"
   ]
  },
  {
   "cell_type": "code",
   "execution_count": 2,
   "metadata": {},
   "outputs": [],
   "source": [
    "def get_page(offset):\n",
    "    headers = {\n",
    "        'cookie': 'tt_webid=6667396596445660679; csrftoken=3a212e0c06e7821650315a4fecf47ac9; tt_webid=6667396596445660679; WEATHER_CITY=%E5%8C%97%E4%BA%AC; UM_distinctid=16b846003e03d7-0dd00a2eb5ea11-353166-1fa400-16b846003e1566; CNZZDATA1259612802=2077267981-1561291030-https%253A%252F%252Fwww.baidu.com%252F%7C1561361230; __tasessionId=4vm71cznd1561363013083; sso_uid_tt=47d6f9788277e4e071f3825a3c36a294; toutiao_sso_user=e02fd616c83dff880adda691cd201aaa; login_flag=6859a0b8ffdb01687b00fe96bbeeba6e; sessionid=21f852358a845d783bdbe1236c9b385b; uid_tt=d40499ec45187c2d411cb7bf656330730d8c15a783bb6284da0f73104cd300a2; sid_tt=21f852358a845d783bdbe1236c9b385b; sid_guard=\"21f852358a845d783bdbe1236c9b385b|1561363028|15552000|Sat\\054 21-Dec-2019 07:57:08 GMT\"; s_v_web_id=6f40e192e0bdeb62ff50fca2bcdf2944',\n",
    "        'user-agent': 'Mozilla/5.0 (Windows NT 10.0; Win64; x64) AppleWebKit/537.36 (KHTML, like Gecko) Chrome/74.0.3729.157 Safari/537.36',\n",
    "        'x-requested-with': 'XMLHttpRequest',\n",
    "        'referer': 'https://www.toutiao.com/search/?keyword=%E8%A1%97%E6%8B%8D',\n",
    "    }\n",
    "    params = {\n",
    "        'aid': '24',\n",
    "        'app_name': 'web_search',\n",
    "        'offset': offset,\n",
    "        'format': 'json',\n",
    "        'keyword': '街拍',\n",
    "        'autoload': 'true',\n",
    "        'count': '20',\n",
    "        'en_qc': '1',\n",
    "        'cur_tab': '1',\n",
    "        'from': 'search_tab',\n",
    "        'pd': 'synthesis',\n",
    "    }\n",
    "    base_url = 'https://www.toutiao.com/api/search/content/?'\n",
    "    url = base_url + urlencode(params)\n",
    "    print(url)\n",
    "    try:\n",
    "        resp = requests.get(url, headers=headers)\n",
    "        if 200  == resp.status_code:\n",
    "            return resp.json()\n",
    "    except requests.ConnectionError:\n",
    "        return None"
   ]
  },
  {
   "cell_type": "markdown",
   "metadata": {},
   "source": [
    "#### XHR地址&结构体"
   ]
  },
  {
   "cell_type": "code",
   "execution_count": 4,
   "metadata": {},
   "outputs": [],
   "source": [
    "# get_page(20)"
   ]
  },
  {
   "cell_type": "code",
   "execution_count": 3,
   "metadata": {
    "collapsed": true
   },
   "outputs": [],
   "source": [
    "def get_images(json):\n",
    "    if json.get('data'):\n",
    "        data = json.get('data')\n",
    "        for item in data:\n",
    "            if item.get('title') is None:\n",
    "                continue\n",
    "            title = re.sub('[\\t]', '', item.get('title'))\n",
    "            images = item.get('image_list')\n",
    "            for image in images:\n",
    "                origin_image = re.sub(\"list.*?pgc-image\", \"large/pgc-image\", image.get('url'))\n",
    "                yield {\n",
    "                    'image': origin_image,\n",
    "                    'title': title\n",
    "                }"
   ]
  },
  {
   "cell_type": "code",
   "execution_count": 5,
   "metadata": {},
   "outputs": [],
   "source": [
    "# get_images(get_page(0))"
   ]
  },
  {
   "cell_type": "code",
   "execution_count": 6,
   "metadata": {
    "collapsed": true
   },
   "outputs": [],
   "source": [
    "def save_image(item):\n",
    "    img_path = 'img' + os.path.sep + item.get('title')\n",
    "    if not os.path.exists(img_path):\n",
    "        os.makedirs(img_path)\n",
    "    try:\n",
    "        resp = requests.get(item.get('image'))\n",
    "        if codes.ok == resp.status_code:\n",
    "            file_path = img_path + os.path.sep + '{file_name}.{file_suffix}'.format(\n",
    "                file_name=md5(resp.content).hexdigest(),\n",
    "                file_suffix='jpg')\n",
    "            if not os.path.exists(file_path):\n",
    "                with open(file_path, 'wb') as f:\n",
    "                    f.write(resp.content)\n",
    "                print('Downloaded image path is %s' % file_path)\n",
    "            else:\n",
    "                print('Already Downloaded', file_path)\n",
    "    except Exception as e:\n",
    "        print(e)"
   ]
  },
  {
   "cell_type": "code",
   "execution_count": 7,
   "metadata": {
    "collapsed": true
   },
   "outputs": [],
   "source": [
    "def main(offset):\n",
    "    json = get_page(offset)\n",
    "    for item in get_images(json):\n",
    "        save_image(item)"
   ]
  },
  {
   "cell_type": "code",
   "execution_count": null,
   "metadata": {},
   "outputs": [],
   "source": [
    "GROUP_START = 0\n",
    "GROUP_END = 1\n",
    "\n",
    "if __name__ == '__main__':\n",
    "    pool = Pool()\n",
    "    groups = ([x * 20 for x in range(GROUP_START, GROUP_END + 1)])\n",
    "    pool.map(main, groups)\n",
    "    pool.close()\n",
    "    pool.join()"
   ]
  }
 ],
 "metadata": {
  "kernelspec": {
   "display_name": "Python 3",
   "language": "python",
   "name": "python3"
  },
  "language_info": {
   "codemirror_mode": {
    "name": "ipython",
    "version": 3
   },
   "file_extension": ".py",
   "mimetype": "text/x-python",
   "name": "python",
   "nbconvert_exporter": "python",
   "pygments_lexer": "ipython3",
   "version": "3.6.2"
  }
 },
 "nbformat": 4,
 "nbformat_minor": 2
}
